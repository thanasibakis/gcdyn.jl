{
 "cells": [
  {
   "cell_type": "markdown",
   "metadata": {},
   "source": [
    "# Assessing MLE convergence"
   ]
  },
  {
   "cell_type": "code",
   "execution_count": 40,
   "metadata": {},
   "outputs": [],
   "source": [
    "import itertools\n",
    "import jax.numpy as np\n",
    "import matplotlib.pyplot as plt\n",
    "import mushi.optimization as opt\n",
    "from gcdyn.model import Model\n",
    "from gcdyn.parameters import Parameters\n",
    "from jax import jit, grad\n",
    "from tqdm.auto import tqdm"
   ]
  },
  {
   "cell_type": "markdown",
   "metadata": {},
   "source": [
    "## Demo usage of gcdyn module"
   ]
  },
  {
   "cell_type": "code",
   "execution_count": 44,
   "metadata": {},
   "outputs": [
    {
     "name": "stdout",
     "output_type": "stream",
     "text": [
      "initial objective 2.184769e+02\n",
      "iteration 1000, objective 2.181e+02, relative change 4.131e-12                                                                                                                                                                                                                                                                                                                                                                                                                                                                                                                                                       \n",
      "maximum iteration 1000 reached with relative change in objective function 4.1e-12\n",
      "Solution: [3.23985356 1.07644249 0.28086724 0.        ]\n"
     ]
    }
   ],
   "source": [
    "θ = np.array([3, 1, 0, 0], dtype=float)\n",
    "seed = 0\n",
    "μ = 1\n",
    "m = 1\n",
    "ρ = 0.5\n",
    "T = 3\n",
    "n_trees = 2\n",
    "\n",
    "params = Parameters(θ, μ, m, ρ)\n",
    "model = Model(params)\n",
    "\n",
    "model.simulate(T, n_trees, seed, False, 50, 96)\n",
    "\n",
    "mle = model.fit()\n",
    "print(f\"Solution: {mle}\")"
   ]
  },
  {
   "cell_type": "markdown",
   "metadata": {},
   "source": [
    "## Code to get a traceplot of a single MLE run"
   ]
  },
  {
   "cell_type": "code",
   "execution_count": null,
   "metadata": {},
   "outputs": [],
   "source": [
    "def MLE_trace(model, init_value, num_iters = 1000, plot_trace = True):\n",
    "    \"\"\"Computes the MLE of θ for the trees in `model`, and also provides a trace of log likelihood values over iterations.\"\"\"\n",
    "\n",
    "    init_value = np.array(init_value, dtype = float)\n",
    "\n",
    "    grad_g = jit(grad(model.g))\n",
    "    optimizer = opt.AccProxGrad(model.g, grad_g, model.h, model.prox, verbose=True)\n",
    "    optimizer._initialize(init_value)\n",
    "\n",
    "    log_lik_trace = []\n",
    "\n",
    "    for iter in tqdm(range(num_iters), desc = \"Optimization iter\"):\n",
    "        optimizer._step()\n",
    "        log_lik_trace.append(-optimizer.f())\n",
    "\n",
    "    if plot_trace:\n",
    "        x_array = np.arange(num_iters) + 1        \n",
    "        plt.plot(x_array, log_lik_trace)\n",
    "        plt.xlabel(\"Iteration\")\n",
    "        plt.ylabel(\"log likelihood\")\n",
    "        plt.show()\n",
    "\n",
    "    return optimizer.x, np.array(log_lik_trace)"
   ]
  },
  {
   "cell_type": "code",
   "execution_count": 43,
   "metadata": {},
   "outputs": [
    {
     "data": {
      "application/vnd.jupyter.widget-view+json": {
       "model_id": "c3923f7358f44956a8fb2b0f2c40a317",
       "version_major": 2,
       "version_minor": 0
      },
      "text/plain": [
       "Optimization iter:   0%|          | 0/1000 [00:00<?, ?it/s]"
      ]
     },
     "metadata": {},
     "output_type": "display_data"
    },
    {
     "data": {
      "image/png": "[encoded data removed]",
      "text/plain": [
       "<Figure size 432x288 with 1 Axes>"
      ]
     },
     "metadata": {
      "needs_background": "light"
     },
     "output_type": "display_data"
    },
    {
     "name": "stdout",
     "output_type": "stream",
     "text": [
      "Solution: [3.24026958 1.07603546 0.2812921  0.        ]\n"
     ]
    }
   ],
   "source": [
    "mle, trace = MLE_trace(model, init_value = (1, 1, 1, 1))\n",
    "print(f\"Solution: {mle}\")"
   ]
  },
  {
   "cell_type": "markdown",
   "metadata": {},
   "source": [
    "## Code to try different initial values for MLE runs"
   ]
  },
  {
   "cell_type": "markdown",
   "metadata": {},
   "source": [
    "Note that this still assumes a single model with a fixed $θ$; we just try to run the algorithm from different starting points."
   ]
  },
  {
   "cell_type": "code",
   "execution_count": 38,
   "metadata": {},
   "outputs": [],
   "source": [
    "def try_init_values(model, true_θ, *search_ranges, max_iter = 1000):\n",
    "    \"\"\"\n",
    "    Runs MLE algorithm for `model` starting from points in the specified range of initial values,\n",
    "    and plots the resulting log likelihoods against the distance of the initial value from the true parameter value.\n",
    "    \"\"\"\n",
    "    search_space = itertools.product(*search_ranges)\n",
    "    search_space = [np.array(t, dtype = float) for t in search_space]\n",
    "\n",
    "    magnitudes = []\n",
    "    log_liks = []\n",
    "\n",
    "    skipped_values = []\n",
    "\n",
    "    grad_g = jit(grad(model.g))\n",
    "    optimizer = opt.AccProxGrad(model.g, grad_g, model.h, model.prox, verbose=False)\n",
    "\n",
    "    for θ_init in tqdm(search_space, desc = \"Init value #\"):\n",
    "        try:\n",
    "            optimizer.run(θ_init, max_iter = max_iter, tol = 0)\n",
    "\n",
    "            magnitudes.append(np.sqrt(np.power(θ - θ_init, 2).sum()))\n",
    "            log_liks.append(-optimizer.f())\n",
    "\n",
    "        except RuntimeError:\n",
    "            skipped_values.append(θ_init)\n",
    "\n",
    "    magnitudes = np.array(magnitudes)\n",
    "    log_liks = np.array(log_liks)\n",
    "\n",
    "    plt.scatter(magnitudes, log_liks)\n",
    "    plt.xlabel(r\"$||\\theta - \\theta\\_init||$\")\n",
    "    plt.ylabel(\"log likelihood of result\")\n",
    "    plt.show()\n",
    "\n",
    "    if skipped_values:\n",
    "        print(\"Note: the following initial values were skipped:\")\n",
    "\n",
    "        for val in skipped_values:\n",
    "            print(val)"
   ]
  },
  {
   "cell_type": "code",
   "execution_count": 45,
   "metadata": {},
   "outputs": [
    {
     "data": {
      "application/vnd.jupyter.widget-view+json": {
       "model_id": "9a96429ef9d14631952ab243ed88ddab",
       "version_major": 2,
       "version_minor": 0
      },
      "text/plain": [
       "Init value #:   0%|          | 0/625 [00:00<?, ?it/s]"
      ]
     },
     "metadata": {},
     "output_type": "display_data"
    },
    {
     "name": "stdout",
     "output_type": "stream",
     "text": [
      "warning: line search failed\n",
      "warning: line search failed\n",
      "warning: line search failed\n",
      "warning: line search failed\n",
      "warning: line search failed\n",
      "warning: line search failed\n",
      "warning: line search failed\n",
      "warning: line search failed\n",
      "warning: line search failed\n",
      "warning: line search failed\n",
      "warning: line search failed\n",
      "warning: line search failed\n",
      "warning: line search failed\n",
      "warning: line search failed\n",
      "warning: line search failed\n",
      "warning: line search failed\n",
      "warning: line search failed\n",
      "warning: line search failed\n",
      "warning: line search failed\n",
      "warning: line search failed\n"
     ]
    },
    {
     "data": {
      "image/png": "[encoded data removed]",
      "text/plain": [
       "<Figure size 432x288 with 1 Axes>"
      ]
     },
     "metadata": {
      "needs_background": "light"
     },
     "output_type": "display_data"
    },
    {
     "name": "stdout",
     "output_type": "stream",
     "text": [
      "Note: the following initial values were skipped:\n",
      "[0. 0. 0. 0.]\n",
      "[0. 0. 1. 0.]\n",
      "[0. 0. 2. 0.]\n",
      "[0. 0. 3. 0.]\n",
      "[0. 0. 4. 0.]\n",
      "[0. 1. 0. 0.]\n",
      "[0. 1. 1. 0.]\n",
      "[0. 1. 2. 0.]\n",
      "[0. 1. 3. 0.]\n",
      "[0. 1. 4. 0.]\n",
      "[0. 2. 0. 0.]\n",
      "[0. 2. 1. 0.]\n",
      "[0. 2. 2. 0.]\n",
      "[0. 2. 3. 0.]\n",
      "[0. 2. 4. 0.]\n",
      "[0. 3. 0. 0.]\n",
      "[0. 3. 1. 0.]\n",
      "[0. 3. 2. 0.]\n",
      "[0. 3. 3. 0.]\n",
      "[0. 3. 4. 0.]\n",
      "[0. 4. 0. 0.]\n",
      "[0. 4. 1. 0.]\n",
      "[0. 4. 2. 0.]\n",
      "[0. 4. 3. 0.]\n",
      "[0. 4. 4. 0.]\n"
     ]
    }
   ],
   "source": [
    "try_init_values(model, θ, range(0, 5), range(0, 5), range(0, 5), range(0, 5))"
   ]
  },
  {
   "cell_type": "markdown",
   "metadata": {},
   "source": [
    "## MLE on BEAST trees"
   ]
  },
  {
   "cell_type": "code",
   "execution_count": null,
   "metadata": {},
   "outputs": [],
   "source": [
    "import pickle\n",
    "\n",
    "with open(\"tenseqs_subset-ete3_trees.pickle\", \"rb\") as trees_file:\n",
    "    beast_trees = pickle.load(trees_file).values()"
   ]
  },
  {
   "cell_type": "markdown",
   "metadata": {},
   "source": [
    "Work in progress..."
   ]
  }
 ],
 "metadata": {
  "kernelspec": {
   "display_name": "Python 3.9.13 ('virtualenv': venv)",
   "language": "python",
   "name": "python3"
  },
  "language_info": {
   "codemirror_mode": {
    "name": "ipython",
    "version": 3
   },
   "file_extension": ".py",
   "mimetype": "text/x-python",
   "name": "python",
   "nbconvert_exporter": "python",
   "pygments_lexer": "ipython3",
   "version": "3.9.13"
  },
  "orig_nbformat": 4,
  "vscode": {
   "interpreter": {
    "hash": "59f1e30a3017d33a743f050ab22796dc7a998775dff325fd6bf8e41f0d094986"
   }
  }
 },
 "nbformat": 4,
 "nbformat_minor": 2
}
