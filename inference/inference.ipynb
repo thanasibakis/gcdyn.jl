{
 "cells": [
  {
   "cell_type": "markdown",
   "metadata": {},
   "source": [
    "# Assessing MLE convergence"
   ]
  },
  {
   "cell_type": "code",
   "execution_count": 26,
   "metadata": {},
   "outputs": [],
   "source": [
    "import itertools\n",
    "import jax.numpy as np\n",
    "import matplotlib.pyplot as plt\n",
    "from gcdyn import bdms\n",
    "from gcdyn.model import Model\n",
    "from jax import jit, grad\n",
    "from tqdm.auto import tqdm\n",
    "from collections import namedtuple"
   ]
  },
  {
   "cell_type": "markdown",
   "metadata": {},
   "source": [
    "## Demo usage of gcdyn module"
   ]
  },
  {
   "cell_type": "code",
   "execution_count": 2,
   "metadata": {},
   "outputs": [],
   "source": [
    "def plot_curve(*θ_values, range = (-10, 10), **named_θ_values):\n",
    "    x_array = np.linspace(*range)\n",
    "    λ = lambda θ: Model.λ(None, x_array, θ)\n",
    "\n",
    "    plt.figure()\n",
    "\n",
    "    for θ in θ_values:\n",
    "        plt.plot(x_array, λ(θ))\n",
    "\n",
    "    for name, θ in named_θ_values.items():\n",
    "        plt.plot(x_array, λ(θ), label = name)\n",
    "    \n",
    "    plt.xlabel(r\"$x$\")\n",
    "    plt.ylabel(r\"$\\lambda_\\theta(x)$\")\n",
    "    plt.xlim(*range)\n",
    "    \n",
    "    if named_θ_values:\n",
    "        plt.legend()\n",
    "\n",
    "    plt.show()\n",
    "\n",
    "\n",
    "def build_model(θ, μ = 1, γ = 1, ρ = 0.5, t = 5, n_trees = 5, seed = None):\n",
    "    trees = [bdms.TreeNode() for _ in range(n_trees)]\n",
    "    for tree in trees:\n",
    "        tree.evolve(\n",
    "            t,\n",
    "            birth_rate    = bdms.SigmoidResponse(θ[1], θ[2], θ[0], θ[3]),\n",
    "            death_rate    = bdms.ConstantResponse(1),\n",
    "            mutation_rate = bdms.ConstantResponse(1),\n",
    "            mutator       = bdms.GaussianMutator(-1, 1),\n",
    "            min_survivors = 20,\n",
    "            seed = seed\n",
    "        )\n",
    "\n",
    "    return Model(trees, μ = μ, γ = γ, ρ = ρ)"
   ]
  },
  {
   "cell_type": "markdown",
   "metadata": {},
   "source": [
    "### Example 1"
   ]
  },
  {
   "cell_type": "code",
   "execution_count": 3,
   "metadata": {},
   "outputs": [],
   "source": [
    "θ = [2, 1, 0, 0]\n",
    "\n",
    "model = build_model(θ, seed = 0)"
   ]
  },
  {
   "cell_type": "code",
   "execution_count": 4,
   "metadata": {},
   "outputs": [
    {
     "name": "stdout",
     "output_type": "stream",
     "text": [
      "Solution: [1.6678083  7.1777625  0.24292359 0.35968977]\n"
     ]
    }
   ],
   "source": [
    "mle = model.fit()\n",
    "print(f\"Solution: {mle.params}\")"
   ]
  },
  {
   "cell_type": "code",
   "execution_count": 5,
   "metadata": {},
   "outputs": [
    {
     "data": {
      "text/plain": [
       "OptStep(params=DeviceArray([1.6678083 , 7.1777625 , 0.24292359, 0.35968977], dtype=float32), state=ScipyMinimizeInfo(fun_val=DeviceArray(951.3538, dtype=float32, weak_type=True), success=True, status=0, iter_num=18))"
      ]
     },
     "execution_count": 5,
     "metadata": {},
     "output_type": "execute_result"
    }
   ],
   "source": [
    "# Subsequent runs are quicker\n",
    "model.fit()"
   ]
  },
  {
   "cell_type": "code",
   "execution_count": 6,
   "metadata": {},
   "outputs": [
    {
     "data": {
      "image/png": "[encoded data removed]",
      "text/plain": [
       "<Figure size 432x288 with 1 Axes>"
      ]
     },
     "metadata": {
      "needs_background": "light"
     },
     "output_type": "display_data"
    }
   ],
   "source": [
    "plot_curve(Solution = mle.params, Truth = θ)"
   ]
  },
  {
   "cell_type": "markdown",
   "metadata": {},
   "source": [
    "### Example 2"
   ]
  },
  {
   "cell_type": "code",
   "execution_count": 81,
   "metadata": {},
   "outputs": [],
   "source": [
    "θ = [-2, 1, 0, 2]"
   ]
  },
  {
   "cell_type": "code",
   "execution_count": 82,
   "metadata": {},
   "outputs": [],
   "source": [
    "model = build_model(θ, seed = 0)"
   ]
  },
  {
   "cell_type": "code",
   "execution_count": 18,
   "metadata": {},
   "outputs": [
    {
     "name": "stdout",
     "output_type": "stream",
     "text": [
      "Solution: [-1.6092503   0.32538337  0.6049948   1.975388  ]\n"
     ]
    }
   ],
   "source": [
    "mle = model.fit(init_value = θ, lower_bounds = [-np.inf, 0, -np.inf, 0])\n",
    "print(f\"Solution: {mle.params}\")"
   ]
  },
  {
   "cell_type": "code",
   "execution_count": 19,
   "metadata": {},
   "outputs": [
    {
     "data": {
      "text/plain": [
       "OptStep(params=DeviceArray([-1.6092503 ,  0.32538337,  0.6049948 ,  1.975388  ], dtype=float32), state=ScipyMinimizeInfo(fun_val=DeviceArray(1540.5035, dtype=float32, weak_type=True), success=True, status=0, iter_num=17))"
      ]
     },
     "execution_count": 19,
     "metadata": {},
     "output_type": "execute_result"
    }
   ],
   "source": [
    "# Subsequent runs are quicker\n",
    "model.fit(init_value = θ, lower_bounds = [-np.inf, 0, -np.inf, 0])"
   ]
  },
  {
   "cell_type": "code",
   "execution_count": 21,
   "metadata": {},
   "outputs": [
    {
     "data": {
      "image/png": "[encoded data removed]",
      "text/plain": [
       "<Figure size 432x288 with 1 Axes>"
      ]
     },
     "metadata": {
      "needs_background": "light"
     },
     "output_type": "display_data"
    }
   ],
   "source": [
    "plot_curve(Solution = mle.params, Truth = θ, range = (-60, 60))"
   ]
  },
  {
   "cell_type": "markdown",
   "metadata": {},
   "source": [
    "## Code to try different initial values for MLE runs"
   ]
  },
  {
   "cell_type": "markdown",
   "metadata": {},
   "source": [
    "Note that this still assumes a single model with a fixed $θ$; we just try to run the algorithm from different starting points."
   ]
  },
  {
   "cell_type": "code",
   "execution_count": 49,
   "metadata": {},
   "outputs": [],
   "source": [
    "def try_init_values(model, true_θ, *search_ranges):\n",
    "    \"\"\"\n",
    "    Runs MLE algorithm for `model` starting from points in the specified range of initial values,\n",
    "    and plots the resulting log likelihoods against the distance of the initial value from the true parameter value.\n",
    "    \"\"\"\n",
    "\n",
    "    true_θ = np.array(true_θ)\n",
    "\n",
    "    search_space = itertools.product(*search_ranges)\n",
    "    search_space = [np.array(t, dtype = float) for t in search_space]\n",
    "\n",
    "    magnitudes = []\n",
    "    log_liks = []\n",
    "    skipped_values = []\n",
    "\n",
    "    Result = namedtuple(\"Result\", (\"θ_init\", \"θ_result\", \"magnitude\", \"log_lik\"))\n",
    "    Result.__repr__ = lambda self: f\"θ_init: {self.θ_init}, magnitude: {self.magnitude}, log lik: {self.log_lik}, θ_result: {self.θ_result}\"\n",
    "    results = []\n",
    "\n",
    "    for θ_init in tqdm(search_space, desc = \"Init value #\"):\n",
    "        result = model.fit(init_value = θ_init)\n",
    "        log_lik = result.state.fun_val\n",
    "\n",
    "        if np.isnan(log_lik):\n",
    "            skipped_values.append(θ_init)\n",
    "\n",
    "        else:\n",
    "            results.append(Result(\n",
    "                θ_init    = θ_init,\n",
    "                θ_result  = result.params,\n",
    "                magnitude = np.sqrt(np.power(true_θ - θ_init, 2).sum()),\n",
    "                log_lik   = log_lik\n",
    "            ))\n",
    "\n",
    "    magnitudes = np.array([result.magnitude for result in results])\n",
    "    log_liks = np.array([result.log_lik for result in results])\n",
    "\n",
    "    plt.scatter(magnitudes, log_liks)\n",
    "    plt.xlabel(r\"$||\\theta - \\theta\\_init||$\")\n",
    "    plt.ylabel(\"log likelihood of result\")\n",
    "    plt.show()\n",
    "\n",
    "    if skipped_values:\n",
    "        print(\"Note: the following initial values were skipped:\")\n",
    "\n",
    "        for val in skipped_values:\n",
    "            print(val)\n",
    "\n",
    "    return results"
   ]
  },
  {
   "cell_type": "code",
   "execution_count": 50,
   "metadata": {},
   "outputs": [
    {
     "data": {
      "application/vnd.jupyter.widget-view+json": {
       "model_id": "0f6ae65dc7c443a9837907d23b0e1d5e",
       "version_major": 2,
       "version_minor": 0
      },
      "text/plain": [
       "Init value #:   0%|          | 0/2500 [00:00<?, ?it/s]"
      ]
     },
     "metadata": {},
     "output_type": "display_data"
    },
    {
     "data": {
      "image/png": "[encoded data removed]",
      "text/plain": [
       "<Figure size 432x288 with 1 Axes>"
      ]
     },
     "metadata": {
      "needs_background": "light"
     },
     "output_type": "display_data"
    },
    {
     "name": "stdout",
     "output_type": "stream",
     "text": [
      "Note: the following initial values were skipped:\n",
      "[-5.  0. -5.  0.]\n",
      "[-5.  0. -4.  0.]\n",
      "[-5.  0. -3.  0.]\n",
      "[-5.  0. -2.  0.]\n",
      "[-5.  0. -1.  0.]\n",
      "[-5.  0.  0.  0.]\n",
      "[-5.  0.  1.  0.]\n",
      "[-5.  0.  2.  0.]\n",
      "[-5.  0.  3.  0.]\n",
      "[-5.  0.  4.  0.]\n",
      "[-5.  1. -5.  0.]\n",
      "[-5.  1. -4.  0.]\n",
      "[-5.  1. -3.  0.]\n",
      "[-5.  1. -2.  0.]\n",
      "[-5.  1. -1.  0.]\n",
      "[-5.  1.  0.  0.]\n",
      "[-5.  1.  1.  0.]\n",
      "[-5.  1.  2.  0.]\n",
      "[-5.  1.  3.  0.]\n",
      "[-5.  1.  4.  0.]\n",
      "[-5.  2. -5.  0.]\n",
      "[-5.  2. -4.  0.]\n",
      "[-5.  2. -3.  0.]\n",
      "[-5.  2. -2.  0.]\n",
      "[-5.  2. -1.  0.]\n",
      "[-5.  2.  0.  0.]\n",
      "[-5.  2.  1.  0.]\n",
      "[-5.  2.  2.  0.]\n",
      "[-5.  2.  3.  0.]\n",
      "[-5.  2.  4.  0.]\n",
      "[-5.  3. -5.  0.]\n",
      "[-5.  3. -4.  0.]\n",
      "[-5.  3. -3.  0.]\n",
      "[-5.  3. -2.  0.]\n",
      "[-5.  3. -1.  0.]\n",
      "[-5.  3.  0.  0.]\n",
      "[-5.  3.  1.  0.]\n",
      "[-5.  3.  2.  0.]\n",
      "[-5.  3.  3.  0.]\n",
      "[-5.  3.  4.  0.]\n",
      "[-5.  4. -5.  0.]\n",
      "[-5.  4. -4.  0.]\n",
      "[-5.  4. -3.  0.]\n",
      "[-5.  4. -2.  0.]\n",
      "[-5.  4. -1.  0.]\n",
      "[-5.  4.  0.  0.]\n",
      "[-5.  4.  1.  0.]\n",
      "[-5.  4.  2.  0.]\n",
      "[-5.  4.  3.  0.]\n",
      "[-5.  4.  4.  0.]\n",
      "[-4.  0. -5.  0.]\n",
      "[-4.  0. -4.  0.]\n",
      "[-4.  0. -3.  0.]\n",
      "[-4.  0. -2.  0.]\n",
      "[-4.  0. -1.  0.]\n",
      "[-4.  0.  0.  0.]\n",
      "[-4.  0.  1.  0.]\n",
      "[-4.  0.  2.  0.]\n",
      "[-4.  0.  3.  0.]\n",
      "[-4.  0.  4.  0.]\n",
      "[-4.  1. -5.  0.]\n",
      "[-4.  1. -4.  0.]\n",
      "[-4.  1. -3.  0.]\n",
      "[-4.  1. -2.  0.]\n",
      "[-4.  1. -1.  0.]\n",
      "[-4.  1.  0.  0.]\n",
      "[-4.  1.  1.  0.]\n",
      "[-4.  1.  2.  0.]\n",
      "[-4.  1.  3.  0.]\n",
      "[-4.  1.  4.  0.]\n",
      "[-4.  2. -5.  0.]\n",
      "[-4.  2. -4.  0.]\n",
      "[-4.  2. -3.  0.]\n",
      "[-4.  2. -2.  0.]\n",
      "[-4.  2. -1.  0.]\n",
      "[-4.  2.  0.  0.]\n",
      "[-4.  2.  1.  0.]\n",
      "[-4.  2.  2.  0.]\n",
      "[-4.  2.  3.  0.]\n",
      "[-4.  2.  4.  0.]\n",
      "[-4.  3. -5.  0.]\n",
      "[-4.  3. -4.  0.]\n",
      "[-4.  3. -3.  0.]\n",
      "[-4.  3. -2.  0.]\n",
      "[-4.  3. -1.  0.]\n",
      "[-4.  3.  0.  0.]\n",
      "[-4.  3.  1.  0.]\n",
      "[-4.  3.  2.  0.]\n",
      "[-4.  3.  3.  0.]\n",
      "[-4.  3.  4.  0.]\n",
      "[-4.  4. -5.  0.]\n",
      "[-4.  4. -4.  0.]\n",
      "[-4.  4. -3.  0.]\n",
      "[-4.  4. -2.  0.]\n",
      "[-4.  4. -1.  0.]\n",
      "[-4.  4.  0.  0.]\n",
      "[-4.  4.  1.  0.]\n",
      "[-4.  4.  2.  0.]\n",
      "[-4.  4.  3.  0.]\n",
      "[-4.  4.  4.  0.]\n",
      "[-3.  0. -5.  0.]\n",
      "[-3.  0. -4.  0.]\n",
      "[-3.  0. -3.  0.]\n",
      "[-3.  0. -2.  0.]\n",
      "[-3.  0. -1.  0.]\n",
      "[-3.  0.  0.  0.]\n",
      "[-3.  0.  1.  0.]\n",
      "[-3.  0.  2.  0.]\n",
      "[-3.  0.  3.  0.]\n",
      "[-3.  0.  4.  0.]\n",
      "[-3.  1. -5.  0.]\n",
      "[-3.  1. -4.  0.]\n",
      "[-3.  1. -3.  0.]\n",
      "[-3.  1. -2.  0.]\n",
      "[-3.  1. -1.  0.]\n",
      "[-3.  1.  0.  0.]\n",
      "[-3.  1.  1.  0.]\n",
      "[-3.  1.  2.  0.]\n",
      "[-3.  1.  3.  0.]\n",
      "[-3.  1.  4.  0.]\n",
      "[-3.  2. -5.  0.]\n",
      "[-3.  2. -4.  0.]\n",
      "[-3.  2. -3.  0.]\n",
      "[-3.  2. -2.  0.]\n",
      "[-3.  2. -1.  0.]\n",
      "[-3.  2.  0.  0.]\n",
      "[-3.  2.  1.  0.]\n",
      "[-3.  2.  2.  0.]\n",
      "[-3.  2.  3.  0.]\n",
      "[-3.  2.  4.  0.]\n",
      "[-3.  3. -5.  0.]\n",
      "[-3.  3. -4.  0.]\n",
      "[-3.  3. -3.  0.]\n",
      "[-3.  3. -2.  0.]\n",
      "[-3.  3. -1.  0.]\n",
      "[-3.  3.  0.  0.]\n",
      "[-3.  3.  1.  0.]\n",
      "[-3.  3.  2.  0.]\n",
      "[-3.  3.  3.  0.]\n",
      "[-3.  3.  4.  0.]\n",
      "[-3.  4. -5.  0.]\n",
      "[-3.  4. -4.  0.]\n",
      "[-3.  4. -3.  0.]\n",
      "[-3.  4. -2.  0.]\n",
      "[-3.  4. -1.  0.]\n",
      "[-3.  4.  0.  0.]\n",
      "[-3.  4.  1.  0.]\n",
      "[-3.  4.  2.  0.]\n",
      "[-3.  4.  3.  0.]\n",
      "[-3.  4.  4.  0.]\n",
      "[-2.  0. -5.  0.]\n",
      "[-2.  0. -4.  0.]\n",
      "[-2.  0. -3.  0.]\n",
      "[-2.  0. -2.  0.]\n",
      "[-2.  0. -1.  0.]\n",
      "[-2.  0.  0.  0.]\n",
      "[-2.  0.  1.  0.]\n",
      "[-2.  0.  2.  0.]\n",
      "[-2.  0.  3.  0.]\n",
      "[-2.  0.  4.  0.]\n",
      "[-2.  1. -5.  0.]\n",
      "[-2.  1. -4.  0.]\n",
      "[-2.  1. -3.  0.]\n",
      "[-2.  1. -2.  0.]\n",
      "[-2.  1. -1.  0.]\n",
      "[-2.  1.  0.  0.]\n",
      "[-2.  1.  1.  0.]\n",
      "[-2.  1.  2.  0.]\n",
      "[-2.  1.  3.  0.]\n",
      "[-2.  1.  4.  0.]\n",
      "[-2.  2. -5.  0.]\n",
      "[-2.  2. -4.  0.]\n",
      "[-2.  2. -3.  0.]\n",
      "[-2.  2. -2.  0.]\n",
      "[-2.  2. -1.  0.]\n",
      "[-2.  2.  0.  0.]\n",
      "[-2.  2.  1.  0.]\n",
      "[-2.  2.  2.  0.]\n",
      "[-2.  2.  3.  0.]\n",
      "[-2.  2.  4.  0.]\n",
      "[-2.  3. -5.  0.]\n",
      "[-2.  3. -4.  0.]\n",
      "[-2.  3. -3.  0.]\n",
      "[-2.  3. -2.  0.]\n",
      "[-2.  3. -1.  0.]\n",
      "[-2.  3.  0.  0.]\n",
      "[-2.  3.  1.  0.]\n",
      "[-2.  3.  2.  0.]\n",
      "[-2.  3.  3.  0.]\n",
      "[-2.  3.  4.  0.]\n",
      "[-2.  4. -5.  0.]\n",
      "[-2.  4. -4.  0.]\n",
      "[-2.  4. -3.  0.]\n",
      "[-2.  4. -2.  0.]\n",
      "[-2.  4. -1.  0.]\n",
      "[-2.  4.  0.  0.]\n",
      "[-2.  4.  1.  0.]\n",
      "[-2.  4.  2.  0.]\n",
      "[-2.  4.  3.  0.]\n",
      "[-2.  4.  4.  0.]\n",
      "[-1.  0. -5.  0.]\n",
      "[-1.  0. -4.  0.]\n",
      "[-1.  0. -3.  0.]\n",
      "[-1.  0. -2.  0.]\n",
      "[-1.  0. -1.  0.]\n",
      "[-1.  0.  0.  0.]\n",
      "[-1.  0.  1.  0.]\n",
      "[-1.  0.  2.  0.]\n",
      "[-1.  0.  3.  0.]\n",
      "[-1.  0.  4.  0.]\n",
      "[-1.  1. -5.  0.]\n",
      "[-1.  1. -4.  0.]\n",
      "[-1.  1. -3.  0.]\n",
      "[-1.  1. -2.  0.]\n",
      "[-1.  1. -1.  0.]\n",
      "[-1.  1.  0.  0.]\n",
      "[-1.  1.  1.  0.]\n",
      "[-1.  1.  2.  0.]\n",
      "[-1.  1.  3.  0.]\n",
      "[-1.  1.  4.  0.]\n",
      "[-1.  2. -5.  0.]\n",
      "[-1.  2. -4.  0.]\n",
      "[-1.  2. -3.  0.]\n",
      "[-1.  2. -2.  0.]\n",
      "[-1.  2. -1.  0.]\n",
      "[-1.  2.  0.  0.]\n",
      "[-1.  2.  1.  0.]\n",
      "[-1.  2.  2.  0.]\n",
      "[-1.  2.  3.  0.]\n",
      "[-1.  2.  4.  0.]\n",
      "[-1.  3. -5.  0.]\n",
      "[-1.  3. -4.  0.]\n",
      "[-1.  3. -3.  0.]\n",
      "[-1.  3. -2.  0.]\n",
      "[-1.  3. -1.  0.]\n",
      "[-1.  3.  0.  0.]\n",
      "[-1.  3.  1.  0.]\n",
      "[-1.  3.  2.  0.]\n",
      "[-1.  3.  3.  0.]\n",
      "[-1.  3.  4.  0.]\n",
      "[-1.  4. -5.  0.]\n",
      "[-1.  4. -4.  0.]\n",
      "[-1.  4. -3.  0.]\n",
      "[-1.  4. -2.  0.]\n",
      "[-1.  4. -1.  0.]\n",
      "[-1.  4.  0.  0.]\n",
      "[-1.  4.  1.  0.]\n",
      "[-1.  4.  2.  0.]\n",
      "[-1.  4.  3.  0.]\n",
      "[-1.  4.  4.  0.]\n",
      "[ 0.  0. -5.  0.]\n",
      "[ 0.  0. -4.  0.]\n",
      "[ 0.  0. -3.  0.]\n",
      "[ 0.  0. -2.  0.]\n",
      "[ 0.  0. -1.  0.]\n",
      "[0. 0. 0. 0.]\n",
      "[0. 0. 1. 0.]\n",
      "[0. 0. 2. 0.]\n",
      "[0. 0. 3. 0.]\n",
      "[0. 0. 4. 0.]\n",
      "[ 0.  1. -5.  0.]\n",
      "[ 0.  1. -4.  0.]\n",
      "[ 0.  1. -3.  0.]\n",
      "[ 0.  1. -2.  0.]\n",
      "[ 0.  1. -1.  0.]\n",
      "[0. 1. 0. 0.]\n",
      "[0. 1. 1. 0.]\n",
      "[0. 1. 2. 0.]\n",
      "[0. 1. 3. 0.]\n",
      "[0. 1. 4. 0.]\n",
      "[ 0.  2. -5.  0.]\n",
      "[ 0.  2. -4.  0.]\n",
      "[ 0.  2. -3.  0.]\n",
      "[ 0.  2. -2.  0.]\n",
      "[ 0.  2. -1.  0.]\n",
      "[0. 2. 0. 0.]\n",
      "[0. 2. 1. 0.]\n",
      "[0. 2. 2. 0.]\n",
      "[0. 2. 3. 0.]\n",
      "[0. 2. 4. 0.]\n",
      "[ 0.  3. -5.  0.]\n",
      "[ 0.  3. -4.  0.]\n",
      "[ 0.  3. -3.  0.]\n",
      "[ 0.  3. -2.  0.]\n",
      "[ 0.  3. -1.  0.]\n",
      "[0. 3. 0. 0.]\n",
      "[0. 3. 1. 0.]\n",
      "[0. 3. 2. 0.]\n",
      "[0. 3. 3. 0.]\n",
      "[0. 3. 4. 0.]\n",
      "[ 0.  4. -5.  0.]\n",
      "[ 0.  4. -4.  0.]\n",
      "[ 0.  4. -3.  0.]\n",
      "[ 0.  4. -2.  0.]\n",
      "[ 0.  4. -1.  0.]\n",
      "[0. 4. 0. 0.]\n",
      "[0. 4. 1. 0.]\n",
      "[0. 4. 2. 0.]\n",
      "[0. 4. 3. 0.]\n",
      "[0. 4. 4. 0.]\n"
     ]
    }
   ],
   "source": [
    "results = try_init_values(model, θ, range(-5, 5), range(0, 5), range(-5, 5), range(0, 5))"
   ]
  },
  {
   "cell_type": "code",
   "execution_count": 56,
   "metadata": {},
   "outputs": [
    {
     "name": "stdout",
     "output_type": "stream",
     "text": [
      "[1. 4. 4. 0.] [1. 4. 4. 0.] True\n",
      "[2. 4. 4. 0.] [2. 4. 4. 0.] True\n",
      "[3. 4. 4. 0.] [3. 4. 4. 0.] True\n",
      "[4. 4. 4. 0.] [4. 4. 4. 0.] True\n",
      "[1. 4. 3. 0.] [1. 4. 3. 0.] True\n",
      "[2. 4. 3. 0.] [2. 4. 3. 0.] True\n",
      "[3. 4. 3. 0.] [3. 4. 3. 0.] True\n",
      "[1. 3. 4. 0.] [1. 3. 4. 0.] True\n",
      "[4. 4. 3. 0.] [4. 4. 3. 0.] True\n",
      "[2. 3. 4. 0.] [2. 3. 4. 0.] True\n",
      "[3. 3. 4. 0.] [3. 3. 4. 0.] True\n",
      "[4. 3. 4. 0.] [4. 3. 4. 0.] True\n",
      "[1. 4. 2. 0.] [1. 4. 2. 0.] True\n",
      "[2. 4. 2. 0.] [2. 4. 2. 0.] True\n",
      "[3. 4. 2. 0.] [3. 4. 2. 0.] True\n",
      "[1. 3. 3. 0.] [1. 3. 3. 0.] True\n",
      "[4. 4. 2. 0.] [4. 4. 2. 0.] True\n",
      "[2. 3. 3. 0.] [2. 3. 3. 0.] True\n",
      "[3. 3. 3. 0.] [3. 3. 3. 0.] True\n",
      "[1. 4. 1. 0.] [1. 4. 1. 0.] True\n"
     ]
    }
   ],
   "source": [
    "for bad_result in sorted(results, key = lambda result: -result.log_lik)[0:20]:\n",
    "    print(\n",
    "        bad_result.θ_init, \n",
    "        bad_result.θ_result,\n",
    "        np.all(bad_result.θ_init == bad_result.θ_result)\n",
    "    )"
   ]
  },
  {
   "cell_type": "code",
   "execution_count": 59,
   "metadata": {},
   "outputs": [
    {
     "name": "stdout",
     "output_type": "stream",
     "text": [
      "[-5.  1. -5.  1.] \t\t [ 0.         0.9705699 -4.991949   1.6606375]\n",
      "[-4.  1. -5.  1.] \t\t [ 0.         0.9705699 -4.991949   1.6606375]\n",
      "[-3.  1. -5.  1.] \t\t [ 0.         0.9705699 -4.991949   1.6606375]\n",
      "[-2.  1. -5.  1.] \t\t [ 0.         0.9705699 -4.991949   1.6606375]\n",
      "[-1.  1. -5.  1.] \t\t [ 0.         0.9705699 -4.991949   1.6606375]\n",
      "[ 0.  1. -5.  1.] \t\t [ 0.         0.9705699 -4.991949   1.6606375]\n",
      "[2. 0. 3. 1.] \t\t [1.8624334  0.         3.0117123  0.72673583]\n",
      "[ 3.  4. -3.  3.] \t\t [3.3964107 4.1155796 5.2843776 1.6579571]\n",
      "[ 1.  4. -5.  4.] \t\t [1.5597008 3.8476574 9.894081  1.6575811]\n",
      "[ 4.  3. -5.  4.] \t\t [5.3011155 2.9562597 5.6077952 1.6575811]\n",
      "[2. 0. 3. 0.] \t\t [2.2635157  0.         3.         0.52703154]\n",
      "[ 4.  3. -4.  0.] \t\t [ 0.         2.6884677 -2.6037796  1.6575809]\n",
      "[ 4.  4. -5.  3.] \t\t [5.442532  3.7341104 9.366478  1.6553754]\n",
      "[1. 3. 0. 0.] \t\t [0.        3.0368536 0.934958  1.6575863]\n",
      "[3. 0. 4. 1.] \t\t [2.3594272  0.         4.16777    0.47787344]\n",
      "[ 4.  4. -1.  4.] \t\t [3.790844  3.8700135 3.6887527 1.6580468]\n",
      "[-5.  0.  4.  1.] \t\t [0.16500568 0.         4.0064087  1.5728843 ]\n",
      "[-4.  0.  4.  1.] \t\t [0.16500568 0.         4.0064087  1.5728843 ]\n",
      "[-3.  0.  4.  1.] \t\t [0.16500568 0.         4.0064087  1.5728843 ]\n",
      "[-2.  0.  4.  1.] \t\t [0.16500568 0.         4.0064087  1.5728843 ]\n"
     ]
    }
   ],
   "source": [
    "for good_result in sorted(results, key = lambda result: result.log_lik)[0:20]:\n",
    "    print(\n",
    "        good_result.θ_init,\n",
    "        \"\\t\\t\",\n",
    "        good_result.θ_result\n",
    "    )"
   ]
  },
  {
   "cell_type": "markdown",
   "metadata": {},
   "source": [
    "## MLE on BEAST trees"
   ]
  },
  {
   "cell_type": "code",
   "execution_count": 64,
   "metadata": {},
   "outputs": [],
   "source": [
    "import pickle\n",
    "\n",
    "with open(\"tenseqs_subset-ete3_trees.pickle\", \"rb\") as trees_file:\n",
    "    beast_trees = pickle.load(trees_file)"
   ]
  },
  {
   "cell_type": "code",
   "execution_count": 76,
   "metadata": {},
   "outputs": [],
   "source": [
    "some_trees = list(beast_trees.values())[90:]\n",
    "model = Model(some_trees, μ = 1, γ = 1, ρ = 0.5)"
   ]
  },
  {
   "cell_type": "code",
   "execution_count": 77,
   "metadata": {},
   "outputs": [],
   "source": [
    "mle = model.fit()"
   ]
  },
  {
   "cell_type": "code",
   "execution_count": 79,
   "metadata": {},
   "outputs": [
    {
     "name": "stdout",
     "output_type": "stream",
     "text": [
      "OptStep(params=DeviceArray([2.0616806 , 1.2297031 , 2.3062227 , 0.00948923], dtype=float32), state=ScipyMinimizeInfo(fun_val=DeviceArray(2687.0386, dtype=float32, weak_type=True), success=True, status=0, iter_num=4))\n"
     ]
    },
    {
     "data": {
      "image/png": "[encoded data removed]",
      "text/plain": [
       "<Figure size 432x288 with 1 Axes>"
      ]
     },
     "metadata": {
      "needs_background": "light"
     },
     "output_type": "display_data"
    }
   ],
   "source": [
    "print(mle)\n",
    "\n",
    "plot_curve(Solution = mle.params)"
   ]
  }
 ],
 "metadata": {
  "kernelspec": {
   "display_name": "Python 3.9.13 ('virtualenv': venv)",
   "language": "python",
   "name": "python3"
  },
  "language_info": {
   "codemirror_mode": {
    "name": "ipython",
    "version": 3
   },
   "file_extension": ".py",
   "mimetype": "text/x-python",
   "name": "python",
   "nbconvert_exporter": "python",
   "pygments_lexer": "ipython3",
   "version": "3.9.13"
  },
  "orig_nbformat": 4,
  "vscode": {
   "interpreter": {
    "hash": "59f1e30a3017d33a743f050ab22796dc7a998775dff325fd6bf8e41f0d094986"
   }
  }
 },
 "nbformat": 4,
 "nbformat_minor": 2
}
