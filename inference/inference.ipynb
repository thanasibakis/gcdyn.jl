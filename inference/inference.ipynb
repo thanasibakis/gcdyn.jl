{
 "cells": [
  {
   "cell_type": "markdown",
   "metadata": {},
   "source": [
    "# Assessing birth-death-mutation model MLE convergence"
   ]
  },
  {
   "cell_type": "code",
   "execution_count": 14,
   "metadata": {},
   "outputs": [],
   "source": [
    "import itertools\n",
    "import jax.numpy as np\n",
    "import matplotlib.pyplot as plt\n",
    "import pickle\n",
    "from gcdyn import bdms\n",
    "from gcdyn.model import Model\n",
    "from jax import jit, grad\n",
    "from tqdm.auto import tqdm\n",
    "from collections import namedtuple\n",
    "\n",
    "def plot_curve(*θ_values, range = (-10, 10), **named_θ_values):\n",
    "    x_array = np.linspace(*range)\n",
    "    λ = lambda θ: Model.λ(None, x_array, θ)\n",
    "\n",
    "    plt.figure()\n",
    "\n",
    "    for θ in θ_values:\n",
    "        plt.plot(x_array, λ(θ), color = \"black\", alpha = 0.5)\n",
    "\n",
    "    for name, θ in named_θ_values.items():\n",
    "        plt.plot(x_array, λ(θ), label = name)\n",
    "    \n",
    "    plt.xlabel(r\"$x$\")\n",
    "    plt.ylabel(r\"$\\lambda_\\theta(x)$\")\n",
    "    plt.xlim(*range)\n",
    "    \n",
    "    if named_θ_values:\n",
    "        plt.legend()\n",
    "\n",
    "    plt.show()\n",
    "\n",
    "\n",
    "def evolve_trees(num_trees, **evolve_kwargs):\n",
    "    trees = [bdms.TreeNode() for _ in range(num_trees)]\n",
    "\n",
    "    seed = evolve_kwargs.pop(\"seed\", None)\n",
    "\n",
    "    for tree in trees:\n",
    "        tree.evolve(seed = seed, **evolve_kwargs)\n",
    "\n",
    "        if seed is not None:\n",
    "            seed = seed + 1\n",
    "\n",
    "    summarize_trees(trees)\n",
    "\n",
    "    return trees\n",
    "\n",
    "\n",
    "def summarize_trees(trees):\n",
    "    print(\"Average of\", sum(len(list(tree.traverse())) for tree in trees) / len(trees), \"nodes per tree, over\", len(trees), \"trees\")\n",
    "\n",
    "\n",
    "def prune_trees(trees, ρ, seed = None):\n",
    "    copied_trees = [tree.copy() for tree in trees]\n",
    "\n",
    "    for tree in copied_trees:\n",
    "        # if statement is for not having an error if you call it twice accidentally\n",
    "        if not tree._sampled:\n",
    "            tree.sample_survivors(p = ρ, seed = None)\n",
    "            tree.prune()\n",
    "\n",
    "    return copied_trees"
   ]
  },
  {
   "cell_type": "markdown",
   "metadata": {},
   "source": [
    "## Demo usage of gcdyn module"
   ]
  },
  {
   "cell_type": "markdown",
   "metadata": {},
   "source": [
    "### Example 1"
   ]
  },
  {
   "cell_type": "code",
   "execution_count": 2,
   "metadata": {},
   "outputs": [],
   "source": [
    "θ = [2, 1, 0, 0]\n",
    "num_trees = 2"
   ]
  },
  {
   "cell_type": "code",
   "execution_count": 3,
   "metadata": {},
   "outputs": [
    {
     "name": "stdout",
     "output_type": "stream",
     "text": [
      "Average of 208.5 nodes per tree, over 2 trees\n",
      "Solution in 15 iterations: [ 1.8693697   3.5055227  -0.08554897  0.        ]\n"
     ]
    },
    {
     "data": {
      "image/png": "[encoded data removed]",
      "text/plain": [
       "<Figure size 432x288 with 1 Axes>"
      ]
     },
     "metadata": {
      "needs_background": "light"
     },
     "output_type": "display_data"
    }
   ],
   "source": [
    "trees = evolve_trees(num_trees,\n",
    "    t             = 5,\n",
    "    birth_rate    = bdms.SigmoidResponse(θ[1], θ[2], θ[0], θ[3]),\n",
    "    death_rate    = bdms.ConstantResponse(1),\n",
    "    mutation_rate = bdms.ConstantResponse(1),\n",
    "    mutator       = bdms.GaussianMutator(-1, 1),\n",
    "    min_survivors = 20,\n",
    "    seed          = 0\n",
    ")\n",
    "\n",
    "model = Model(trees, μ = 1, γ = 1, ρ = 0.5)\n",
    "\n",
    "mle = model.fit()\n",
    "print(f\"Solution in {mle.state.iter_num} iterations: {mle.params}\")\n",
    "plot_curve(Solution = mle.params, Truth = θ)"
   ]
  },
  {
   "cell_type": "markdown",
   "metadata": {},
   "source": [
    "### Example 2"
   ]
  },
  {
   "cell_type": "markdown",
   "metadata": {},
   "source": [
    "We now try a reverse sigmoid, which is not necessarily biologically motivated (since we expect birth rate to increase with fitness) but statistically as relevant as the previous example.\n",
    "Note that to reverse the sigmoid, we want to invert `θ[1]`.\n",
    "In optimization, we also need to relax the constraint on `θ[1]`."
   ]
  },
  {
   "cell_type": "code",
   "execution_count": 4,
   "metadata": {},
   "outputs": [],
   "source": [
    "θ = [2, -1, 0, 0]\n",
    "num_trees = 2"
   ]
  },
  {
   "cell_type": "code",
   "execution_count": 5,
   "metadata": {},
   "outputs": [
    {
     "name": "stdout",
     "output_type": "stream",
     "text": [
      "Average of 710.0 nodes per tree, over 2 trees\n",
      "Solution in 9 iterations: [ 2.0493498  -0.5627433  -0.3167873   0.00596557]\n"
     ]
    },
    {
     "data": {
      "image/png": "[encoded data removed]",
      "text/plain": [
       "<Figure size 432x288 with 1 Axes>"
      ]
     },
     "metadata": {
      "needs_background": "light"
     },
     "output_type": "display_data"
    }
   ],
   "source": [
    "trees = evolve_trees(num_trees,\n",
    "    t             = 5,\n",
    "    birth_rate    = bdms.SigmoidResponse(θ[1], θ[2], θ[0], θ[3]),\n",
    "    death_rate    = bdms.ConstantResponse(1),\n",
    "    mutation_rate = bdms.ConstantResponse(1),\n",
    "    mutator       = bdms.GaussianMutator(-1, 1),\n",
    "    min_survivors = 20,\n",
    "    seed          = 0\n",
    ")\n",
    "\n",
    "model = Model(trees, μ = 1, γ = 1, ρ = 0.5)\n",
    "\n",
    "mle = model.fit(init_value = θ, lower_bounds = [0, -np.inf, -np.inf, 0])\n",
    "print(f\"Solution in {mle.state.iter_num} iterations: {mle.params}\")\n",
    "plot_curve(Solution = mle.params, Truth = θ, range = (-60, 60))"
   ]
  },
  {
   "cell_type": "markdown",
   "metadata": {},
   "source": [
    "Note that when growing trees, child phenotypes are generated to be smaller than their parent's phenotypes, on average.\n",
    "This encourages children to have lower birth rates, on average.\n",
    "But, by reversing the sigmoid, we are actually now encouraging higher birth rates, which is leading to very large trees.\n",
    "Let's try changing the phenotype shift to be positive (which is toward lower birth rates in this model).\n",
    "\n",
    "Notice how the JIT compile time drops as the sizes of the trees drops... (or is it just my choice of seed?)"
   ]
  },
  {
   "cell_type": "code",
   "execution_count": 6,
   "metadata": {},
   "outputs": [
    {
     "name": "stdout",
     "output_type": "stream",
     "text": [
      "Average of 536.5 nodes per tree, over 2 trees\n",
      "Solution in 15 iterations: [ 2.087087   -1.1152506   0.46359396  0.        ]\n"
     ]
    },
    {
     "data": {
      "image/png": "[encoded data removed]",
      "text/plain": [
       "<Figure size 432x288 with 1 Axes>"
      ]
     },
     "metadata": {
      "needs_background": "light"
     },
     "output_type": "display_data"
    }
   ],
   "source": [
    "trees = evolve_trees(num_trees,\n",
    "    t             = 5,\n",
    "    birth_rate    = bdms.SigmoidResponse(θ[1], θ[2], θ[0], θ[3]),\n",
    "    death_rate    = bdms.ConstantResponse(1),\n",
    "    mutation_rate = bdms.ConstantResponse(1),\n",
    "    mutator       = bdms.GaussianMutator(1, 1),\n",
    "    min_survivors = 20,\n",
    "    seed          = 2\n",
    ")\n",
    "\n",
    "model = Model(trees, μ = 1, γ = 1, ρ = 0.5)\n",
    "\n",
    "mle = model.fit(init_value = θ, lower_bounds = [0, -np.inf, -np.inf, 0])\n",
    "print(f\"Solution in {mle.state.iter_num} iterations: {mle.params}\")\n",
    "plot_curve(Solution = mle.params, Truth = θ, range = (-60, 60))"
   ]
  },
  {
   "cell_type": "markdown",
   "metadata": {},
   "source": [
    "## Code to try different initial values for MLE runs"
   ]
  },
  {
   "cell_type": "markdown",
   "metadata": {},
   "source": [
    "Note that this still assumes a single model with a fixed $θ$; we just try to run the algorithm from different starting points."
   ]
  },
  {
   "cell_type": "code",
   "execution_count": 7,
   "metadata": {},
   "outputs": [],
   "source": [
    "def try_init_values(model, true_θ, *search_ranges, print_skipped_values = False):\n",
    "    \"\"\"\n",
    "    Runs MLE algorithm for `model` starting from points in the specified range of initial values,\n",
    "    and plots the resulting log likelihoods against the distance of the initial value from the true parameter value.\n",
    "    \"\"\"\n",
    "\n",
    "    true_θ = np.array(true_θ)\n",
    "\n",
    "    search_space = itertools.product(*search_ranges)\n",
    "    search_space = [np.array(t, dtype = float) for t in search_space]\n",
    "\n",
    "    magnitudes = []\n",
    "    log_liks = []\n",
    "    skipped_values = []\n",
    "\n",
    "    Result = namedtuple(\"Result\", (\"θ_init\", \"θ_result\", \"magnitude\", \"log_lik\"))\n",
    "    Result.__repr__ = lambda self: f\"θ_init: {self.θ_init}, magnitude: {self.magnitude}, log lik: {self.log_lik}, θ_result: {self.θ_result}\"\n",
    "    results = []\n",
    "\n",
    "    for θ_init in tqdm(search_space, desc = \"Init value #\"):\n",
    "        result = model.fit(init_value = θ_init)\n",
    "        log_lik = result.state.fun_val\n",
    "\n",
    "        if np.isnan(log_lik):\n",
    "            skipped_values.append(θ_init)\n",
    "\n",
    "        else:\n",
    "            results.append(Result(\n",
    "                θ_init    = θ_init,\n",
    "                θ_result  = result.params,\n",
    "                magnitude = np.sqrt(np.power(true_θ - θ_init, 2).sum()),\n",
    "                log_lik   = log_lik\n",
    "            ))\n",
    "\n",
    "    magnitudes = np.array([result.magnitude for result in results])\n",
    "    log_liks = np.array([result.log_lik for result in results])\n",
    "\n",
    "    plt.scatter(magnitudes, log_liks)\n",
    "    plt.xlabel(r\"$||\\theta - \\theta\\_init||$\")\n",
    "    plt.ylabel(\"log likelihood of result\")\n",
    "    plt.show()\n",
    "\n",
    "    if skipped_values:\n",
    "        print(f\"Note: {len(skipped_values)}/{len(search_space)} initial values were skipped.\")\n",
    "\n",
    "        if print_skipped_values:\n",
    "            for val in skipped_values:\n",
    "                print(val)\n",
    "        \n",
    "        else:\n",
    "            print(\"Pass argument `print_skipped_values = True` to see them.\")\n",
    "\n",
    "    return results"
   ]
  },
  {
   "cell_type": "code",
   "execution_count": 8,
   "metadata": {},
   "outputs": [
    {
     "name": "stdout",
     "output_type": "stream",
     "text": [
      "Average of 302.0 nodes per tree, over 1 trees\n"
     ]
    },
    {
     "data": {
      "application/vnd.jupyter.widget-view+json": {
       "model_id": "4eb8a47662a047cd92022c69b6e7bab4",
       "version_major": 2,
       "version_minor": 0
      },
      "text/plain": [
       "Init value #:   0%|          | 0/1250 [00:00<?, ?it/s]"
      ]
     },
     "metadata": {},
     "output_type": "display_data"
    },
    {
     "data": {
      "image/png": "[encoded data removed]",
      "text/plain": [
       "<Figure size 432x288 with 1 Axes>"
      ]
     },
     "metadata": {
      "needs_background": "light"
     },
     "output_type": "display_data"
    },
    {
     "name": "stdout",
     "output_type": "stream",
     "text": [
      "Note: 50/1250 initial values were skipped.\n",
      "Pass argument `print_skipped_values = True` to see them.\n"
     ]
    }
   ],
   "source": [
    "θ = [2, 1, 0, 0]\n",
    "num_trees = 1\n",
    "\n",
    "trees = evolve_trees(num_trees,\n",
    "    t             = 5,\n",
    "    birth_rate    = bdms.SigmoidResponse(θ[1], θ[2], θ[0], θ[3]),\n",
    "    death_rate    = bdms.ConstantResponse(1),\n",
    "    mutation_rate = bdms.ConstantResponse(1),\n",
    "    mutator       = bdms.GaussianMutator(-1, 1),\n",
    "    min_survivors = 20,\n",
    "    seed          = 0\n",
    ")\n",
    "\n",
    "model = Model(trees, μ = 1, γ = 1, ρ = 0.5)\n",
    "\n",
    "results = try_init_values(model, θ, range(0, 5), range(0, 5), range(-5, 5), range(0, 5))"
   ]
  },
  {
   "cell_type": "markdown",
   "metadata": {},
   "source": [
    "## MLE on BEAST trees"
   ]
  },
  {
   "cell_type": "code",
   "execution_count": 9,
   "metadata": {},
   "outputs": [
    {
     "name": "stdout",
     "output_type": "stream",
     "text": [
      "Average of 55.666666666666664 nodes per tree, over 21 trees\n",
      "Solution in 6 iterations: [2.0692263  1.2352401  2.377035   0.01314545]\n"
     ]
    },
    {
     "data": {
      "image/png": "[encoded data removed]",
      "text/plain": [
       "<Figure size 432x288 with 1 Axes>"
      ]
     },
     "metadata": {
      "needs_background": "light"
     },
     "output_type": "display_data"
    }
   ],
   "source": [
    "with open(\"tenseqs_subset-ete3_trees.pickle\", \"rb\") as trees_file:\n",
    "    beast_trees = pickle.load(trees_file)\n",
    "\n",
    "some_trees = list(beast_trees.values())[80:]\n",
    "summarize_trees(some_trees)\n",
    "\n",
    "model = Model(some_trees, μ = 1, γ = 1, ρ = 0.5)\n",
    "\n",
    "θ_init = [2, 1, 0, 0]\n",
    "mle = model.fit(init_value = θ_init)\n",
    "print(f\"Solution in {mle.state.iter_num} iterations: {mle.params}\")\n",
    "plot_curve(Initial = θ_init, Solution = mle.params)"
   ]
  },
  {
   "cell_type": "markdown",
   "metadata": {},
   "source": [
    "## What if we prune the trees?"
   ]
  },
  {
   "cell_type": "markdown",
   "metadata": {},
   "source": [
    "In reality, we don't observe dead lineages, so we need to prune the trees to see how well inference would go on data we would observe."
   ]
  },
  {
   "cell_type": "markdown",
   "metadata": {},
   "source": [
    "### Example 1"
   ]
  },
  {
   "cell_type": "code",
   "execution_count": 16,
   "metadata": {},
   "outputs": [],
   "source": [
    "θ = [2, 1, 0, 0]\n",
    "num_trees = 1"
   ]
  },
  {
   "cell_type": "markdown",
   "metadata": {},
   "source": [
    "Pruning is a random procedure, so we can run independent/parallel prunes and observe the different results we obtain, like a confidence band of sorts"
   ]
  },
  {
   "cell_type": "code",
   "execution_count": 17,
   "metadata": {},
   "outputs": [
    {
     "name": "stdout",
     "output_type": "stream",
     "text": [
      "Average of 302.0 nodes per tree, over 1 trees\n",
      "Truth: [2, 1, 0, 0]\n",
      "Solution in 13 iterations: [ 1.9068173   2.752452   -0.04683809  0.        ]\n",
      "Solution after pruning: [ 0.5887804  92.69759     0.85794604  0.14168246]\n",
      "Solution after pruning: [9.747794  3.7144113 2.7136695 0.5112339]\n",
      "Solution after pruning: [ 0.55375093 32.24606     0.9452134   0.26961064]\n",
      "Solution after pruning: [ 0.6504955  65.832794    0.91121256  0.26217002]\n",
      "Solution after pruning: [ 0.6349471  46.73455     0.73362225  0.2240861 ]\n",
      "Solution after pruning: [ 0.593497   52.907753    0.93687266  0.22791348]\n",
      "Solution after pruning: [ 0.7048986  59.08306     0.9005122   0.31415856]\n",
      "Solution after pruning: [1.4043276  0.4513517  0.9459057  0.02426815]\n",
      "Solution after pruning: [0.58621573 0.         3.6142972  0.28566635]\n",
      "Solution after pruning: [ 0.6485041  62.507317    0.9057514   0.17861444]\n"
     ]
    },
    {
     "data": {
      "image/png": "[encoded data removed]",
      "text/plain": [
       "<Figure size 432x288 with 1 Axes>"
      ]
     },
     "metadata": {
      "needs_background": "light"
     },
     "output_type": "display_data"
    }
   ],
   "source": [
    "trees = evolve_trees(num_trees,\n",
    "    t             = 5,\n",
    "    birth_rate    = bdms.SigmoidResponse(θ[1], θ[2], θ[0], θ[3]),\n",
    "    death_rate    = bdms.ConstantResponse(1),\n",
    "    mutation_rate = bdms.ConstantResponse(1),\n",
    "    mutator       = bdms.GaussianMutator(-1, 1),\n",
    "    min_survivors = 20,\n",
    "    seed          = 0\n",
    ")\n",
    "\n",
    "model = Model(trees, μ = 1, γ = 1, ρ = 0.5)\n",
    "\n",
    "mle = model.fit(init_value = θ)\n",
    "print(f\"Truth: {θ}\")\n",
    "print(f\"Solution in {mle.state.iter_num} iterations: {mle.params}\")\n",
    "\n",
    "pruned_mles = []\n",
    "\n",
    "for _ in range(10):\n",
    "    # Because of JIT, you need to build a new model with the modified trees\n",
    "    model = Model(prune_trees(trees, ρ = 0.5, seed = 0), μ = 1, γ = 1, ρ = 0.5)\n",
    "\n",
    "    pruned_mle = model.fit(init_value = θ)\n",
    "    print(f\"Solution after pruning: {pruned_mle.params}\")\n",
    "\n",
    "    pruned_mles.append(pruned_mle)\n",
    "\n",
    "plot_curve(*[mle.params for mle in pruned_mles], Solution = mle.params, Truth = θ)"
   ]
  },
  {
   "cell_type": "markdown",
   "metadata": {},
   "source": [
    "The pruned results don't look so good..."
   ]
  },
  {
   "cell_type": "markdown",
   "metadata": {},
   "source": [
    "### Example 2"
   ]
  },
  {
   "cell_type": "code",
   "execution_count": 18,
   "metadata": {},
   "outputs": [],
   "source": [
    "θ = [2, -1, 0, 0]\n",
    "num_trees = 1"
   ]
  },
  {
   "cell_type": "code",
   "execution_count": 20,
   "metadata": {},
   "outputs": [
    {
     "name": "stdout",
     "output_type": "stream",
     "text": [
      "Average of 639.0 nodes per tree, over 1 trees\n",
      "Truth: [2, -1, 0, 0]\n",
      "Solution: [ 2.0995808  -1.1225653   0.23754703  0.        ]\n",
      "Solution after pruning: [ 0.9707409  1.2719271 -1.8573182  0.       ]\n",
      "Solution after pruning: [ 1.19213     0.1403698  -0.19260727  0.06409428]\n",
      "Solution after pruning: [ 1.5260192  2.1631217 -1.315117   0.       ]\n",
      "Solution after pruning: [ 1.4171116  -0.1131672  -0.51892525  0.        ]\n",
      "Solution after pruning: [ 1.6657575  42.424137   -1.3548732   0.38510948]\n",
      "Solution after pruning: [ 0.29287627 43.43815    -1.4791435   0.39906833]\n",
      "Solution after pruning: [ 0.7615318  8.845379  -1.7183812  0.       ]\n",
      "Solution after pruning: [ 0.81436557  0.85014343 -2.427167    0.        ]\n",
      "Solution after pruning: [12.029894  -7.420811  -3.3738701  0.582621 ]\n",
      "Solution after pruning: [ 0.7289388 78.11148   -0.5155356  0.5332971]\n"
     ]
    },
    {
     "data": {
      "image/png": "[encoded data removed]",
      "text/plain": [
       "<Figure size 432x288 with 1 Axes>"
      ]
     },
     "metadata": {
      "needs_background": "light"
     },
     "output_type": "display_data"
    }
   ],
   "source": [
    "trees = evolve_trees(num_trees,\n",
    "    t             = 5,\n",
    "    birth_rate    = bdms.SigmoidResponse(θ[1], θ[2], θ[0], θ[3]),\n",
    "    death_rate    = bdms.ConstantResponse(1),\n",
    "    mutation_rate = bdms.ConstantResponse(1),\n",
    "    mutator       = bdms.GaussianMutator(1, 1),\n",
    "    min_survivors = 20,\n",
    "    seed          = 2\n",
    ")\n",
    "\n",
    "model = Model(trees, μ = 1, γ = 1, ρ = 0.5)\n",
    "\n",
    "mle = model.fit(init_value = θ, lower_bounds = [0, -np.inf, -np.inf, 0])\n",
    "print(f\"Truth: {θ}\")\n",
    "print(f\"Solution: {mle.params}\")\n",
    "\n",
    "pruned_mles = []\n",
    "\n",
    "for _ in range(10):\n",
    "    # Because of JIT, you need to build a new model with the modified trees\n",
    "    model = Model(prune_trees(trees, ρ = 0.5, seed = 1), μ = 1, γ = 1, ρ = 0.5)\n",
    "\n",
    "    pruned_mle = model.fit(init_value = θ, lower_bounds = [0, -np.inf, -np.inf, 0])\n",
    "    print(f\"Solution after pruning: {pruned_mle.params}\")\n",
    "\n",
    "    pruned_mles.append(pruned_mle)\n",
    "\n",
    "plot_curve(*[mle.params for mle in pruned_mles], Solution = mle.params, Truth = θ)"
   ]
  },
  {
   "cell_type": "markdown",
   "metadata": {},
   "source": [
    "The pruned results *really* don't look so good here, since most of them aren't even reverse sigmoids..."
   ]
  }
 ],
 "metadata": {
  "kernelspec": {
   "display_name": "Python 3.9.13 ('virtualenv': venv)",
   "language": "python",
   "name": "python3"
  },
  "language_info": {
   "codemirror_mode": {
    "name": "ipython",
    "version": 3
   },
   "file_extension": ".py",
   "mimetype": "text/x-python",
   "name": "python",
   "nbconvert_exporter": "python",
   "pygments_lexer": "ipython3",
   "version": "3.9.13"
  },
  "orig_nbformat": 4,
  "vscode": {
   "interpreter": {
    "hash": "59f1e30a3017d33a743f050ab22796dc7a998775dff325fd6bf8e41f0d094986"
   }
  }
 },
 "nbformat": 4,
 "nbformat_minor": 2
}
